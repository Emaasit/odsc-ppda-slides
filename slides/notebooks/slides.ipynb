{
 "cells": [
  {
   "cell_type": "markdown",
   "metadata": {},
   "source": [
    "<!-- label:data-from-scratch_1_2 -->"
   ]
  },
  {
   "cell_type": "code",
   "execution_count": null,
   "metadata": {},
   "outputs": [],
   "source": [
    "! git clone https://github.com/lgautier/project-tycho-utilities.git"
   ]
  },
  {
   "cell_type": "markdown",
   "metadata": {},
   "source": [
    "<!-- label:data-from-scratch_2_2 -->"
   ]
  },
  {
   "cell_type": "code",
   "execution_count": null,
   "metadata": {},
   "outputs": [],
   "source": [
    "! cd project-tycho-utilities/ && DBNAME=../tycho.db make all"
   ]
  },
  {
   "cell_type": "markdown",
   "metadata": {},
   "source": [
    "---\n",
    "\n",
    "<!-- label:sqlite -->\n",
    "\n",
    "Opening a connection to a database (here an SQLite database)\n",
    "and getting a cursor is straightforward."
   ]
  },
  {
   "cell_type": "code",
   "execution_count": null,
   "metadata": {},
   "outputs": [],
   "source": [
    "import sqlite3\n",
    "dbfilename = \"tycho.db\"\n",
    "dbcon = sqlite3.connect(dbfilename)\n",
    "cursor = dbcon.cursor()"
   ]
  },
  {
   "cell_type": "markdown",
   "metadata": {},
   "source": [
    "<!-- label:sqlite_firstquery -->\n",
    "\n",
    "Our first query is simple: we want to fetch the cities\n",
    "in states with a name starting with \"M\""
   ]
  },
  {
   "cell_type": "code",
   "execution_count": null,
   "metadata": {},
   "outputs": [],
   "source": [
    "sql = \"\"\"\n",
    "SELECT state, city\n",
    "FROM location\n",
    "WHERE state LIKE 'M%'\n",
    "\"\"\"\n",
    "cursor.execute(sql)"
   ]
  },
  {
   "cell_type": "markdown",
   "metadata": {},
   "source": [
    "<!-- label:sqlite_firstresults -->\n",
    "Results can then be pulled from the database, and further\n",
    "computation done with Python.\n",
    "\n",
    "If what we want is to count the number of cities in each state\n",
    "matching our predicate, this can be written:"
   ]
  },
  {
   "cell_type": "code",
   "execution_count": null,
   "metadata": {},
   "outputs": [],
   "source": [
    "from collections import Counter\n",
    "ct = Counter()\n",
    "for row_n, (state, city) in enumerate(cursor, 1):\n",
    "    ct[state] += 1\n",
    "print(ct.most_common(n=5))"
   ]
  },
  {
   "cell_type": "markdown",
   "metadata": {},
   "source": [
    "<!-- label:sqlite_secondquery -->\n",
    "Some of the post-processing done in Python can be pushed\n",
    "back to the database"
   ]
  },
  {
   "cell_type": "code",
   "execution_count": null,
   "metadata": {},
   "outputs": [],
   "source": [
    "cursor = dbcon.cursor()\n",
    "sql = \"\"\"\n",
    "SELECT state, count(city) AS ct\n",
    "FROM location\n",
    "WHERE state LIKE 'M%'\n",
    "GROUP BY state\n",
    "ORDER BY ct DESC\n",
    "LIMIT 5\n",
    "\"\"\"\n",
    "cursor.execute(sql)\n",
    "print(cursor.fetchall())"
   ]
  },
  {
   "cell_type": "markdown",
   "metadata": {},
   "source": [
    "<!-- label:sqlite_complexquery -->\n",
    "\n",
    "Our database schema has an other table `casecount` that contains\n",
    "the count of cases for several diseases broken down by city and date.\n",
    "\n",
    "Now we want the answer to a slightly more complex question: for each state,\n",
    "count the number of cities for which we have case counts for more than 5\n",
    "different diseases. Oh, and sort the list of states in decreasing count order.\n",
    "In fact, only report the first 5 states."
   ]
  },
  {
   "cell_type": "code",
   "execution_count": null,
   "metadata": {},
   "outputs": [],
   "source": [
    "sql = \"\"\"\n",
    "SELECT state, count(city) city_count\n",
    "FROM (select D.location_id\n",
    "      FROM (select location_id, COUNT(DISTINCT(disease_id)) AS disease_count\n",
    "            FROM casecount\n",
    "            GROUP BY location_id) AS D\n",
    "      WHERE D.disease_count > 5) AS HD\n",
    "INNER JOIN location\n",
    "ON HD.location_id = location.id\n",
    "GROUP BY state\n",
    "ORDER BY city_count DESC\n",
    "LIMIT 5\n",
    "\"\"\"\n",
    "cursor.execute(sql)\n"
   ]
  },
  {
   "cell_type": "markdown",
   "metadata": {},
   "source": [
    "<!-- label:sqlalchemy_open -->\n",
    "Opening the same database using an ORM (SQLalchemy)."
   ]
  },
  {
   "cell_type": "code",
   "execution_count": null,
   "metadata": {},
   "outputs": [],
   "source": [
    "from sqlalchemy.ext.automap import automap_base\n",
    "from sqlalchemy.orm import Session\n",
    "from sqlalchemy import create_engine\n",
    "\n",
    "Base = automap_base()\n",
    "\n",
    "# engine, suppose it has two tables 'user' and 'address' set up\n",
    "engine = create_engine(\"sqlite:///tycho.db\")"
   ]
  },
  {
   "cell_type": "markdown",
   "metadata": {},
   "source": [
    "<!-- label:sqlalchemy_reflect -->\n",
    "Use reflection on the SQL side to create the objects from the database."
   ]
  },
  {
   "cell_type": "code",
   "execution_count": null,
   "metadata": {},
   "outputs": [],
   "source": [
    "Base.prepare(engine, reflect=True)\n",
    "location = Base.classes.location"
   ]
  },
  {
   "cell_type": "markdown",
   "metadata": {},
   "source": [
    "---\n",
    "\n",
    "<!-- label:sqlalchemy_query -->\n",
    "Make a query using SQLalchemy's methods."
   ]
  },
  {
   "cell_type": "code",
   "execution_count": null,
   "metadata": {},
   "outputs": [],
   "source": [
    "session = Session(engine)\n",
    "from sqlalchemy import func # SQL functions\n",
    "\n",
    "query = (session\n",
    "         .query(location.state,\n",
    "                func.count(location.city))\n",
    "         .filter(location.state.like('M%'))\n",
    "         .group_by(location.state)\n",
    "         .order_by(func.count(location.city).desc())\n",
    "         .limit(5))\n",
    "res = query.all()\n"
   ]
  },
  {
   "cell_type": "markdown",
   "metadata": {},
   "source": [
    "Note that SQL and ORM mapping are technology predating StackOverflow.\n",
    "\n",
    "---\n",
    "\n",
    "<!-- label:sqlalchemy_sql -->\n",
    "Function composition is generating SQL code."
   ]
  },
  {
   "cell_type": "code",
   "execution_count": null,
   "metadata": {},
   "outputs": [],
   "source": [
    "from sqlalchemy.dialects import sqlite\n",
    "print(str(query.statement.compile(dialect=session.bind.dialect))\n",
    "      .replace('GROUP BY', '\\nGROUP BY'))"
   ]
  },
  {
   "cell_type": "markdown",
   "metadata": {},
   "source": [
    "---\n",
    "\n",
    "<!-- label:dplyr_rpy2_string -->\n",
    "<!-- config:two-columns -->\n",
    "\n",
    "With dplyr, an SQL table is a data table."
   ]
  },
  {
   "cell_type": "code",
   "execution_count": null,
   "metadata": {},
   "outputs": [],
   "source": [
    "from rpy2.robjects import r\n",
    "\n",
    "r_code = \"\"\"\n",
    "suppressMessages(require(\"dplyr\"))\n",
    "dbfilename <- '\"\"\" + dbfilename + \"\"\"'\n",
    "datasrc <- src_sqlite(dbfilename)\n",
    "location_tbl <- tbl(datasrc, \"location\")\n",
    "\n",
    "res <- filter(location_tbl,\n",
    "              state %like% 'M%') %>%\n",
    "       group_by(state) %>%\n",
    "       count(state) %>%\n",
    "       arrange(desc(n))\n",
    "head(res, 5)\n",
    "\"\"\"\n",
    "\n",
    "res = r(r_code)\n",
    "print(res)"
   ]
  },
  {
   "cell_type": "markdown",
   "metadata": {},
   "source": [
    "---\n",
    "\n",
    "We traded the knowledge of SQL for the knownledge of R.\n",
    "\n",
    "---\n",
    "\n",
    "<!-- label:dplyr_table -->\n",
    "dplyr is not trying to map objects. It is focusing on databases\n",
    "as sources of tables."
   ]
  },
  {
   "cell_type": "code",
   "execution_count": null,
   "metadata": {},
   "outputs": [],
   "source": [
    "from rpy2.robjects.lib import dplyr\n",
    "\n",
    "\n",
    "datasrc  = dplyr.src_sqlite(dbfilename)\n",
    "location_tbl = datasrc.get_table(\"location\")"
   ]
  },
  {
   "cell_type": "markdown",
   "metadata": {},
   "source": [
    "<!-- label:dplyr_query -->\n",
    "The table can be queried using the dplyr interface."
   ]
  },
  {
   "cell_type": "code",
   "execution_count": null,
   "metadata": {},
   "outputs": [],
   "source": [
    "res =  (location_tbl\n",
    "        .filter('state %like% \"M%\"')\n",
    "        .group_by('state')\n",
    "        .count('state')\n",
    "        .arrange('desc(n)'))\n",
    "\n",
    "print(res)\n"
   ]
  },
  {
   "cell_type": "markdown",
   "metadata": {},
   "source": [
    "Strings are snippets of R code for dplyr.\n",
    "\n",
    "R can be considered a domain-specific language (DSL) in the Python code.\n",
    "\n",
    "---\n",
    "\n",
    "<!-- label:dplyr_advanced -->\n",
    "\n",
    "Let's implement our complex SQL query from early with dplyr."
   ]
  },
  {
   "cell_type": "code",
   "execution_count": null,
   "metadata": {},
   "outputs": [],
   "source": [
    "casecount_tbl = datasrc.get_table(\"casecount\")\n",
    "\n",
    "##\n",
    "disease_per_city = (casecount_tbl\n",
    "                    .group_by('location_id')\n",
    "                    .summarize(n='count(distinct(disease_id))'))\n",
    "##\n",
    "high_disease = (disease_per_city\n",
    "                .filter('n > 5'))\n",
    "##\n",
    "inner_join = dplyr.dplyr.inner_join\n",
    "join_location = inner_join((location_tbl\n",
    "                            .mutate(location_id=\"id\")),\n",
    "                           high_disease,\n",
    "                           by=\"location_id\")\n",
    "res = (dplyr.DataFrame(join_location)\n",
    "       .group_by('state')\n",
    "       .summarize(n='count(city)')\n",
    "       .arrange('desc(n)')\n",
    "       .collect())\n"
   ]
  },
  {
   "cell_type": "markdown",
   "metadata": {},
   "source": [
    "---\n",
    "\n",
    "<!-- label:ggplot2_figure -->\n",
    "The R package ggplot2 can also be used."
   ]
  },
  {
   "cell_type": "code",
   "execution_count": null,
   "metadata": {},
   "outputs": [],
   "source": [
    "from rpy2.robjects import r, globalenv\n",
    "import rpy2.robjects.lib.ggplot2 as gg\n",
    "\n",
    "p = (gg.ggplot(res.head(20)) +\n",
    "     gg.geom_bar(gg.aes_string(x='factor(state, levels=as.character(state))', \n",
    "                               y='n'),\n",
    "                 stat='identity') +\n",
    "     gg.scale_x_discrete(\"State\") +\n",
    "     gg.scale_y_sqrt(\"# cities w/ >5 diseases\"))"
   ]
  },
  {
   "cell_type": "markdown",
   "metadata": {},
   "source": [
    "<!-- label:ggplot2_plot -->\n",
    "<!-- config:split-output -->\n",
    "Sending the resulting figure to a jupyter notebook output."
   ]
  },
  {
   "cell_type": "code",
   "execution_count": null,
   "metadata": {},
   "outputs": [],
   "source": [
    "from rpy2.ipython.ggplot import image_png\n",
    "from IPython.display import display\n",
    "\n",
    "display(image_png(p))"
   ]
  },
  {
   "cell_type": "markdown",
   "metadata": {},
   "source": [
    "---\n",
    "<!-- label:ggplot2_plot_map -->\n",
    "<!-- config:split-output -->"
   ]
  },
  {
   "cell_type": "code",
   "execution_count": null,
   "metadata": {},
   "outputs": [],
   "source": [
    "from rpy2.robjects import baseenv\n",
    "state_abb = (dplyr.DataFrame({'state': baseenv.get('state.abb'),\n",
    "                             'region': baseenv.get('state.name')})\n",
    "             .mutate(region = 'tolower(region)'))\n",
    "from rpy2.robjects.packages import importr\n",
    "maps = importr('maps')\n",
    "states = gg.map_data('state')\n",
    "\n",
    "merge = baseenv.get('merge')\n",
    "states_map = merge(states, state_abb, sort=False, by=\"region\")\n",
    "dataf_plot = merge(states_map, res, sort=False, by=\"state\")\n",
    "dataf_plot = dplyr.DataFrame(dataf_plot).arrange('order')\n",
    "\n",
    "p = (gg.ggplot(dataf_plot) +\n",
    "     gg.geom_polygon(gg.aes_string(x='long', y='lat', group='group', fill='n')) +\n",
    "     gg.scale_fill_continuous(trans=\"sqrt\") +\n",
    "     gg.coord_map(\"albers\",  at0 = 45.5, lat1 = 29.5))\n",
    "display(image_png(p))"
   ]
  },
  {
   "cell_type": "markdown",
   "metadata": {},
   "source": [
    "---\n",
    "\n",
    "<!-- label:ggplot2_plot_pneumonia_prepare_1_2 -->"
   ]
  },
  {
   "cell_type": "code",
   "execution_count": null,
   "metadata": {},
   "outputs": [],
   "source": [
    "sql_disease = \"\"\"\n",
    "SELECT date_from, count, city\n",
    "FROM casecount\n",
    "INNER JOIN disease\n",
    "ON casecount.disease_id=disease.id\n",
    "INNER JOIN location\n",
    "ON casecount.location_id=location.id\n",
    "WHERE disease.name='%s'\n",
    "AND state='%s'\n",
    "AND city IS NOT NULL\n",
    "\"\"\"\n",
    "sql = sql_disease % ('PNEUMONIA', 'MA')"
   ]
  },
  {
   "cell_type": "markdown",
   "metadata": {},
   "source": [
    "<!-- label:ggplot2_plot_pneumonia_prepare_2_2 -->"
   ]
  },
  {
   "cell_type": "code",
   "execution_count": null,
   "metadata": {},
   "outputs": [],
   "source": [
    "dataf = dplyr.DataFrame(dplyr.tbl(datasrc, dplyr.dplyr.sql(sql))).collect()\n",
    "dataf = dataf.mutate(date='as.POSIXct(strptime(date_from, format=\"%Y-%m-%d\"))')\n",
    "dataf = dataf.mutate(month = 'format(date, \"%m\")',\n",
    "                     year = 'format(date, \"%Y\")')\n",
    "# sum per month\n",
    "dataf_plot = (dataf\n",
    "              .group_by('city', 'month','year')\n",
    "              .summarize(count='sum(count)'))\n",
    "# \n",
    "yearmonth_to_date = \"\"\"\n",
    "as.POSIXct(\n",
    "    strptime(\n",
    "        paste(year, month, \"15\", sep=\"-\"),\n",
    "        format=\"%Y-%m-%d\")\n",
    "    )\n",
    "\"\"\"\n",
    "\n",
    "dataf_plot = dataf_plot.mutate(date=yearmonth_to_date)"
   ]
  },
  {
   "cell_type": "markdown",
   "metadata": {},
   "source": [
    "Initial plot:"
   ]
  },
  {
   "cell_type": "code",
   "execution_count": null,
   "metadata": {},
   "outputs": [],
   "source": [
    "p = (gg.ggplot(dataf_plot) +\n",
    "     gg.geom_line(gg.aes_string(x='date', y='count',\n",
    "                                group='city')) +\n",
    "     gg.scale_y_sqrt())\n",
    "display(image_png(p))"
   ]
  },
  {
   "cell_type": "markdown",
   "metadata": {},
   "source": [
    "Color Boston vs Other"
   ]
  },
  {
   "cell_type": "code",
   "execution_count": null,
   "metadata": {},
   "outputs": [],
   "source": [
    "p = (gg.ggplot(dataf_plot\n",
    "               .mutate(city_label='ifelse(city==\"BOSTON\", \"Boston\", \"Other\")')) +\n",
    "     gg.geom_line(gg.aes_string(x='date', y='count',\n",
    "                                group='city', color='city_label')) +\n",
    "     gg.scale_y_sqrt())\n",
    "display(image_png(p))"
   ]
  },
  {
   "cell_type": "markdown",
   "metadata": {},
   "source": [
    "Something is strange before approx. 1925. Let's focus on the most recent\n",
    "data."
   ]
  },
  {
   "cell_type": "code",
   "execution_count": null,
   "metadata": {},
   "outputs": [],
   "source": [
    "p = (gg.ggplot(dataf_plot\n",
    "               .mutate(city_label='ifelse(city==\"BOSTON\", \"Boston\", \"Other\")')\n",
    "               .filter('year > 1925')) +\n",
    "     gg.geom_line(gg.aes_string(x='date', y='count',\n",
    "                                group='city', color='city_label')) +\n",
    "     gg.scale_y_sqrt())\n",
    "display(image_png(p))"
   ]
  },
  {
   "cell_type": "markdown",
   "metadata": {},
   "source": [
    "Data for relatively few city. We can color them individually."
   ]
  },
  {
   "cell_type": "code",
   "execution_count": null,
   "metadata": {},
   "outputs": [],
   "source": [
    "p = (gg.ggplot(dataf_plot\n",
    "               .filter('year > 1925')) +\n",
    "     gg.geom_line(gg.aes_string(x='date', y='count',\n",
    "                                group='city', color='city')) +\n",
    "     gg.scale_y_sqrt())\n",
    "display(image_png(p))"
   ]
  },
  {
   "cell_type": "markdown",
   "metadata": {},
   "source": [
    "Decreasing for Boston, increasing for Worcester."
   ]
  },
  {
   "cell_type": "code",
   "execution_count": null,
   "metadata": {},
   "outputs": [],
   "source": [
    "p = (gg.ggplot(dataf_plot\n",
    "               .filter('year > 1925')) +\n",
    "     gg.geom_line(gg.aes_string(x='date', y='count',\n",
    "                                group='city', color='city'),\n",
    "                  alpha=0.4) +\n",
    "     gg.geom_smooth(gg.aes_string(x='date', y='count',\n",
    "                                group='city', color='city')) +\n",
    "     gg.scale_y_sqrt())\n",
    "display(image_png(p))"
   ]
  },
  {
   "cell_type": "markdown",
   "metadata": {},
   "source": [
    "<!-- label:ggplot2_plot_pneumonia -->\n",
    "<!-- config:split-output -->"
   ]
  },
  {
   "cell_type": "code",
   "execution_count": null,
   "metadata": {},
   "outputs": [],
   "source": [
    "p = (gg.ggplot(dataf_plot\n",
    "               .filter('year > 1925')) +\n",
    "     gg.geom_line(gg.aes_string(x='month', y='count',\n",
    "     group='year', color='city')) +\n",
    "     gg.facet_grid('city~.', scales=\"free_y\") +\n",
    "     gg.scale_y_sqrt())\n",
    "display(image_png(p))"
   ]
  },
  {
   "cell_type": "markdown",
   "metadata": {},
   "source": [
    "Which years correspond to largest number of cases in Boston ?"
   ]
  },
  {
   "cell_type": "code",
   "execution_count": null,
   "metadata": {},
   "outputs": [],
   "source": [
    "set((dataf_plot\n",
    "     .filter('count>200', 'year>1925')\n",
    "     .rx2('year')))"
   ]
  },
  {
   "cell_type": "markdown",
   "metadata": {},
   "source": [
    "Corresponds to largest number of cases in Fall Rivers.\n",
    "Springfield and Worcester have different bad years."
   ]
  },
  {
   "cell_type": "code",
   "execution_count": null,
   "metadata": {},
   "outputs": [],
   "source": [
    "p = (gg.ggplot(dataf_plot\n",
    "               .filter('year > 1925')) +\n",
    "     gg.geom_line(gg.aes_string(x='month', y='count', \n",
    "                                group='year', \n",
    "                                color='year %in% c(1926,1929,1931,1933,1937)')) +\n",
    "     gg.facet_grid('city~.', scales=\"free_y\"))\n",
    "display(image_png(p))"
   ]
  },
  {
   "cell_type": "markdown",
   "metadata": {},
   "source": [
    "---\n",
    "\n",
    "Function to plot monthly aggregates.\n",
    "\n",
    "<!-- label:function_make_ggplot -->"
   ]
  },
  {
   "cell_type": "code",
   "execution_count": null,
   "metadata": {},
   "outputs": [],
   "source": [
    "def foo(disease, state):\n",
    "    sql = sql_disease % (disease, state)\n",
    "    dataf = dplyr.DataFrame(dplyr.tbl(datasrc, dplyr.dplyr.sql(sql))).collect()\n",
    "    dataf = dataf.mutate(date='as.POSIXct(strptime(date_from, format=\"%Y-%m-%d\"))')\n",
    "    dataf = dataf.mutate(month = 'format(date, \"%m\")',\n",
    "                         year = 'format(date, \"%Y\")')\n",
    "\n",
    "    dataf_plot = (dataf\n",
    "                  .group_by('city', 'month','year')\n",
    "                  .summarize(count='sum(count)'))\n",
    "    \n",
    "    dataf_plot = dataf_plot.mutate(date=yearmonth_to_date)\n",
    "    p = (gg.ggplot(dataf_plot\n",
    "               .filter('year > 1925')) +\n",
    "         gg.geom_line(gg.aes_string(x='month', y='count+1',\n",
    "\t                            group='year', color='city')) +\n",
    "         gg.facet_grid('city~.', scales=\"free_y\") +\n",
    "         gg.scale_y_sqrt() +\n",
    "         gg.ggtitle(disease))\n",
    "    display(image_png(p, height=600))"
   ]
  },
  {
   "cell_type": "markdown",
   "metadata": {},
   "source": [
    "<!-- label:widget_ggplot -->"
   ]
  },
  {
   "cell_type": "code",
   "execution_count": null,
   "metadata": {},
   "outputs": [],
   "source": [
    "from ipywidgets import interact\n",
    "interact(foo,\n",
    "         disease=('PNEUMONIA','INFLUENZA','MEASLES'),\n",
    "         state=('MA','NH','CA'))"
   ]
  },
  {
   "cell_type": "markdown",
   "metadata": {},
   "source": [
    "---\n",
    "\n",
    "<!-- label:bokeh -->\n",
    "<!-- config:split-output -->"
   ]
  },
  {
   "cell_type": "code",
   "execution_count": null,
   "metadata": {
    "attributes": {
     "classes": [],
     "id": "bokeh_scatter"
    }
   },
   "outputs": [],
   "source": [
    "from bokeh.plotting import (figure, show,\n",
    "                            ColumnDataSource,\n",
    "                            output_notebook)\n",
    "##from bokeh.resources import INLINE\n",
    "output_notebook()\n",
    "\n",
    "res = res.head(20)\n",
    "plot = figure(x_range=list(res.rx2('state')))\n",
    "source = ColumnDataSource(dict((x, tuple(res.rx2(x))) for x in res.colnames))\n",
    "plot.vbar(x='state',\n",
    "          bottom=0, top='n',\n",
    "          width=0.5,\n",
    "          color='STEELBLUE',\n",
    "          source=source)"
   ]
  },
  {
   "cell_type": "markdown",
   "metadata": {},
   "source": [
    "<!-- label:bokeh_show -->"
   ]
  },
  {
   "cell_type": "code",
   "execution_count": null,
   "metadata": {},
   "outputs": [],
   "source": [
    "show(plot)\n"
   ]
  },
  {
   "cell_type": "markdown",
   "metadata": {},
   "source": [
    "---\n",
    "\n",
    "<!-- label:spark_setup -->\n",
    "Spark can be started from regular Python code."
   ]
  },
  {
   "cell_type": "code",
   "execution_count": null,
   "metadata": {},
   "outputs": [],
   "source": [
    "import findspark\n",
    "findspark.init()\n",
    "\n",
    "import pyspark\n",
    "\n",
    "conf = pyspark.conf.SparkConf()\n",
    "(conf.setMaster('local[2]')\n",
    " .setAppName('ipython-notebook')\n",
    " .set(\"spark.executor.memory\", \"2g\"))\n",
    "\n",
    "sc = pyspark.SparkContext(conf=conf)"
   ]
  },
  {
   "cell_type": "markdown",
   "metadata": {},
   "source": [
    "<!-- label:spark_dataframe -->"
   ]
  },
  {
   "cell_type": "code",
   "execution_count": null,
   "metadata": {},
   "outputs": [],
   "source": [
    "from pyspark.sql import SQLContext, Row\n",
    "sqlcontext = SQLContext(sc)\n",
    "cursor.execute(\"SELECT * FROM location\")\n",
    "location = \\\n",
    "    sqlcontext.createDataFrame(cursor,\n",
    "                               tuple(x[0] for x in cursor.description))\n",
    "location.registerTempTable(\"location\")\n",
    "\n",
    "sql = \"\"\"\n",
    "SELECT * \n",
    "FROM (SELECT * FROM disease WHERE name='PNEUMONIA') AS disease\n",
    "INNER JOIN casecount\n",
    "ON disease.id=casecount.disease_id\"\"\"\n",
    "\n",
    "cursor.execute(sql)\n",
    "casecount = \\\n",
    "    sqlcontext.createDataFrame(cursor,\n",
    "                               tuple(x[0] for x in cursor.description))\n",
    "casecount.registerTempTable(\"casecount\")"
   ]
  },
  {
   "cell_type": "markdown",
   "metadata": {},
   "source": [
    "---\n",
    "\n",
    "<!-- label:spark_query -->\n",
    "SQL can be used to query the data."
   ]
  },
  {
   "cell_type": "code",
   "execution_count": null,
   "metadata": {},
   "outputs": [],
   "source": [
    "sql = \"\"\"\n",
    "SELECT state, count(city) AS ct\n",
    "FROM location\n",
    "GROUP BY state\n",
    "ORDER BY ct DESC\n",
    "\"\"\"\n",
    "counts = sqlcontext.sql(sql)"
   ]
  },
  {
   "cell_type": "markdown",
   "metadata": {},
   "source": [
    "<!-- label:spark_query_collect -->\n",
    "The evaluation is only performed when the results are needed."
   ]
  },
  {
   "cell_type": "code",
   "execution_count": null,
   "metadata": {},
   "outputs": [],
   "source": [
    "res = counts.collect()\n",
    "res[:3]"
   ]
  },
  {
   "cell_type": "markdown",
   "metadata": {},
   "source": [
    "<!-- label:spark_mapreduce -->\n",
    "\n",
    "Spark is particularly comfortable with map-reduce tasks.\n",
    "The input data can be our table (stored in a RDBM).\n",
    "Here we count the number of times suffixes are found in city names:"
   ]
  },
  {
   "cell_type": "code",
   "execution_count": null,
   "metadata": {},
   "outputs": [],
   "source": [
    "names = (location\n",
    "         .filter(location.city.isNotNull())\n",
    "         .rdd\n",
    "         .flatMap(lambda rec: [x[-5:] for x in rec.city.split()])\n",
    "         .map(lambda word: (word.lower(), 1))\n",
    "         .reduceByKey(lambda a, b: a+b))\n",
    "names.takeOrdered(10, key = lambda x: -x[1])"
   ]
  },
  {
   "cell_type": "markdown",
   "metadata": {},
   "source": [
    "---\n",
    "\n",
    "<!-- label:spark_sqlmapreduce -->\n",
    "\n",
    "We can also seamlessly use result table obtained from an SQL query\n",
    "to perform map/reduce tasks:"
   ]
  },
  {
   "cell_type": "code",
   "execution_count": null,
   "metadata": {},
   "outputs": [],
   "source": [
    "sql = \"\"\"\n",
    "SELECT city\n",
    "FROM (SELECT * FROM casecount WHERE epiweek LIKE '1912%') AS sub\n",
    "INNER JOIN location\n",
    "ON location.id=sub.location_id\n",
    "GROUP BY city\n",
    "\"\"\"\n",
    "y_1912 = sqlcontext.sql(sql)\n",
    "names = (y_1912\n",
    "         .filter(y_1912.city.isNotNull())\n",
    "         .rdd\n",
    "         .flatMap(lambda rec: [x[-5:] for x in rec.city.split()])\n",
    "         .map(lambda word: (word.lower(), 1))\n",
    "         .reduceByKey(lambda a,b: a+b))\n",
    "names.takeOrdered(5, key = lambda x: -x[1])"
   ]
  },
  {
   "cell_type": "markdown",
   "metadata": {},
   "source": [
    "---\n",
    "\n",
    "<!-- label:spark_sqlmapreduceggplot_1_2 -->"
   ]
  },
  {
   "cell_type": "code",
   "execution_count": null,
   "metadata": {},
   "outputs": [],
   "source": [
    "## --- SQL ---\n",
    "sql = \"\"\"\n",
    "SELECT state, city, date_from, count AS ct\n",
    "FROM (SELECT * FROM casecount WHERE epiweek LIKE '1912%') AS sub\n",
    "INNER JOIN location\n",
    "ON location.id=sub.location_id\n",
    "\"\"\"\n",
    "y_1912 = sqlcontext.sql(sql)\n",
    "\n",
    "## --- Spark ---\n",
    "cases = (y_1912\n",
    "         .rdd\n",
    "         .map(lambda rec: ((rec.state, int(rec.date_from.split('-')[1])),\n",
    "                           rec.ct))\n",
    "         .reduceByKey(lambda a,b: a+b)).collect()"
   ]
  },
  {
   "cell_type": "markdown",
   "metadata": {},
   "source": [
    "<!-- label:spark_sqlmapreduceggplot_2_2 -->\n",
    "<!-- config:split-output -->"
   ]
  },
  {
   "cell_type": "code",
   "execution_count": null,
   "metadata": {},
   "outputs": [],
   "source": [
    "## --- R (from Python) ---\n",
    "from rpy2.robjects import StrVector, IntVector, FactorVector, Formula\n",
    "months = StrVector([str(x) for x in range(1,13)])\n",
    "res = dplyr.DataFrame({'state': StrVector([x[0][0] for x in cases]),\n",
    "                       'month': FactorVector([x[0][1] for x in cases],\n",
    "                                             levels = months),\n",
    "                       'count': IntVector([x[1] for x in cases])})\n",
    "dataf_plot = merge(states_map, res, all_x=True, sort=False, by=\"state\")\n",
    "dataf_plot = dplyr.DataFrame(dataf_plot).arrange('order')\n",
    "\n",
    "jetcols = StrVector((\"#00007F\", \"#007FFF\", \"#7FFF7F\", \"#FF7F00\", \"#7F0000\"))\n",
    "p = (gg.ggplot(dataf_plot) +\n",
    "     gg.geom_polygon(gg.aes_string(x='long', y='lat',\n",
    "                                   group='group', fill='count')) +\n",
    "     gg.coord_map(\"albers\",  at0 = 45.5, lat1 = 29.5) +\n",
    "     gg.scale_fill_gradientn(colors=jetcols, trans='sqrt') +\n",
    "     gg.facet_wrap(facets=Formula(\"~month\")) +\n",
    "     gg.ggtitle(\"Cases of Pneumonia in 1912\"))\n",
    "\n",
    "display(image_png(p))"
   ]
  },
  {
   "cell_type": "markdown",
   "metadata": {},
   "source": [
    "<!-- label:spark_sqlmapreduceggplot_3_2 -->\n",
    "<!-- config:split-output -->"
   ]
  },
  {
   "cell_type": "code",
   "execution_count": null,
   "metadata": {},
   "outputs": [],
   "source": [
    "dataf_now = dataf_plot.filter('month %in% c(9,10)')\n",
    "p = (gg.ggplot(dataf_now) +\n",
    "     gg.geom_polygon(gg.aes_string(x='long', y='lat',\n",
    "                                   group='group', fill='count')) +\n",
    "     gg.coord_map(\"albers\",  at0 = 45.5, lat1 = 29.5) +\n",
    "     gg.scale_fill_gradientn(colors=jetcols, trans='sqrt') +\n",
    "     gg.facet_wrap(facets=Formula(\"~month\")) +\n",
    "     gg.ggtitle(\"Cases of Pneumonia in 1912\"))\n",
    "\n",
    "display(image_png(p))"
   ]
  },
  {
   "cell_type": "markdown",
   "metadata": {},
   "source": [
    "<!-- label:spark_sqlmapreduceggplot_4_2 -->\n",
    "<!-- config:split-output -->"
   ]
  },
  {
   "cell_type": "code",
   "execution_count": null,
   "metadata": {},
   "outputs": [],
   "source": [
    "dataf_now = (dataf_plot\n",
    "             .filter('month %in% c(9,10)',\n",
    "                     'state %in% c(\"CT\", \"NY\", \"MA\", \"NJ\", \"NH\", \"VM\")'))\n",
    "p = (gg.ggplot(dataf_now) +\n",
    "     gg.geom_polygon(gg.aes_string(x='long', y='lat',\n",
    "                                   group='group', fill='count')) +\n",
    "     gg.coord_map(\"albers\",  at0 = 45.5, lat1 = 29.5) +\n",
    "     gg.scale_fill_gradientn(colors=jetcols, trans='sqrt') +\n",
    "     gg.facet_wrap(facets=Formula(\"~month\")) +\n",
    "     gg.ggtitle(\"Cases of Pneumonia in 1912\"))\n",
    "\n",
    "display(image_png(p))"
   ]
  }
 ],
 "metadata": {},
 "nbformat": 4,
 "nbformat_minor": 1
}
